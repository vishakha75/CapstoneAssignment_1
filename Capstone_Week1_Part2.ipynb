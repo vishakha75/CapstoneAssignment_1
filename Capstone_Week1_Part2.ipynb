{
 "cells": [
  {
   "cell_type": "markdown",
   "metadata": {},
   "source": [
    "Data Description\n",
    "In this section, I will describe the data used to solve the problem as described previously.\n",
    "\n",
    "As noted below in the Further Development Section, it is possible to attempt quite complex and sophisticated scenarios when approaching this problem. However, given the size of the project and for simplicity only the following scenario will be addressed:\n",
    "\n",
    "Query the FourSqaure website for the top sites in Chicago\n",
    "Use the FourSquare API to get supplemental geographical data about the top sites\n",
    "Use the FourSquare API to get top restaurent recommendations closest to each of the top site\n",
    "Use open source Chicago Crime data to provide the user with additional crime data\n",
    "Top Sites from FourSquare Website\n",
    "Although FourSquare provides a comprehensive API, one of the things that API does not easily support is a mechanism to directly extract the top N sites / venues in a given city. This data, however, is easily available directly from the FourSquare Website. To do this simply go to www.foursquare.com, enter the city of your choise and select Top Picks from I'm Looking For selection field.\n",
    "\n",
    "Using BeautifulSoup and Requests the results of the Top Pick for Chicago was retrieved. A sample venue is shown below:"
   ]
  },
  {
   "cell_type": "code",
   "execution_count": null,
   "metadata": {},
   "outputs": [],
   "source": [
    "<div class=\"venueDetails\">\n",
    "    <div class=\"venueName\">\n",
    "        <h2>\n",
    "    <a href=\"/v/millennium-park/42b75880f964a52090251fe3\" target=\"_blank\">Millennium Park\n",
    "    </a>\n",
    "</h2>\n",
    "    </div>\n",
    "    <div class=\"venueMeta\">\n",
    "        <div class=\"venueScore positive\" style=\"background-color: #00B551;\" title=\"9.7/10 - People like this place\">9.7</div>\n",
    "        <div class=\"venueAddressData\">\n",
    "            <div class=\"venueAddress\">201 E Randolph St (btwn Columbus Dr &amp; Michigan Ave), Chicago</div>\n",
    "            <div class=\"venueData\"><span class=\"venueDataItem\"><span class=\"categoryName\">Park</span><span class=\"delim\"> • </span></span>\n",
    "            </div>\n",
    "        </div>\n",
    "    </div>\n",
    "</div>"
   ]
  },
  {
   "cell_type": "markdown",
   "metadata": {},
   "source": [
    "From this HTML the following data can be extracted:\n",
    "\n",
    "Venue Name\n",
    "Venue Score\n",
    "Venue Category\n",
    "Venue HREF\n",
    "Venue ID [Extracted from the HREF]\n",
    "\n",
    "We will have a closer look at this data gather later on when the supplemental geographical data has been added.\n",
    "\n",
    "Supplemental Geographical Data\n",
    "\n",
    "Using the id field extracted from the HTML it is then possible to get further supplemental geographical details about each of the top sites from FourSquare using the following sample API call:"
   ]
  },
  {
   "cell_type": "code",
   "execution_count": null,
   "metadata": {},
   "outputs": [],
   "source": [
    "# Get the properly formatted address and the latitude and longitude\n",
    "url = 'https://api.foursquare.com/v2/venues/{}?client_id={}&client_secret={}&v={}'.format(\n",
    "    venue_id, \n",
    "    cfg['client_id'],\n",
    "    cfg['client_secret'],\n",
    "    cfg['version'])\n",
    "    \n",
    "result = requests.get(url).json()\n",
    "result['response']['venue']['location']"
   ]
  },
  {
   "cell_type": "markdown",
   "metadata": {},
   "source": [
    "The requests returns a JSON object which can then be queried for the details required. The last line in the sample code above returns the following sample JSON:"
   ]
  },
  {
   "cell_type": "markdown",
   "metadata": {},
   "source": [
    "{  \n",
    "   \"city\":\"Chicago\",\n",
    "   \"lng\":-87.62323915831546,\n",
    "   \"crossStreet\":\"btwn Columbus Dr & Michigan Ave\",\n",
    "   \"neighborhood\":\"The Loop\",\n",
    "   \"postalCode\":\"60601\",\n",
    "   \"cc\":\"US\",\n",
    "   \"formattedAddress\":[  \n",
    "      \"201 E Randolph St (btwn Columbus Dr & Michigan Ave)\",\n",
    "      \"Chicago, IL 60601\",\n",
    "      \"United States\"\n",
    "   ],\n",
    "   \"state\":\"IL\",\n",
    "   \"address\":\"201 E Randolph St\",\n",
    "   \"lat\":41.8826616030636,\n",
    "   \"country\":\"United States\"\n",
    "}"
   ]
  },
  {
   "cell_type": "markdown",
   "metadata": {},
   "source": [
    "From this the following attributes are extracted:\n",
    "\n",
    "Venue Address\n",
    "\n",
    "Venue Postalcode\n",
    "\n",
    "Venue City\n",
    "\n",
    "Venue Latitude\n",
    "\n",
    "Venue Longitude"
   ]
  }
 ],
 "metadata": {
  "kernelspec": {
   "display_name": "Python",
   "language": "python",
   "name": "conda-env-python-py"
  },
  "language_info": {
   "codemirror_mode": {
    "name": "ipython",
    "version": 3
   },
   "file_extension": ".py",
   "mimetype": "text/x-python",
   "name": "python",
   "nbconvert_exporter": "python",
   "pygments_lexer": "ipython3",
   "version": "3.6.11"
  }
 },
 "nbformat": 4,
 "nbformat_minor": 4
}
