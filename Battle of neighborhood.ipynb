1. Introduction: Business Problem
In this project, I would like to find out a suitable location for a pet company to expand its business in New York City. The demand of pet food, pet toy and other pet supplies will be the concern of the pet company. Therefore, to discover the most suitable location, we need to figure out the places of the greatest concentration of dogs. Also, we need to understand what are the pet lovers needed, so that we can meet their requirements

2. Data
New York has a total of 5 boroughs and 306 neighborhoods. It is necessarily to have a dataset which contains all 5 boroughs and the 306 neighborhoods that exist in each borough, also the latitude and longitude coordinates of each neighborhood. We can find the dataset from following links: https://data.cityofnewyork.us/City-Government/Borough-Boundaries/tqmj-j8zm

https://data.beta.nyc/en/dataset/pediacities-nyc-neighborhoods/resource/7caac650-d082-4aea-9f9b-3681d568e8a5?inner_span=True

https://data.beta.nyc/dataset/pediacities-nyc-neighborhoods

In addition, we need a dataset about the license of dogs in NYC. We are able to find the dataset from NYC OpenData page: https://data.cityofnewyork.us/Health/NYC-Dog-Licensing-Dataset/nu7n-tubp

The original datasets called "df_merged" include data as follow: RowNumber, AnimalName, AnimalGender, AnimalBirthMonth, BreedName, Borough, ZipCode, LicenseIssuedDate, LicenseExpiredDate, Extract Year, borough, post_office, neighborhood, population, density.

Another dataset called "df_segmentation2" is the one we need to getting familiar with the customers and will include data as follow: Dogs_Name, Dogs_Gender, Dogs_BirthYear ,Breed_Name, Borough, Neighborhood. We will also use these 5 features for running K-means

We need to find out the place which is the greatest concentration of dogs, there be the place for pet company to expand.
